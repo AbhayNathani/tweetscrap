{
 "cells": [
  {
   "cell_type": "markdown",
   "id": "44072810",
   "metadata": {},
   "source": [
    "<font color=blue size=6 > TWEET SCRAPPING INTO CSV </font>"
   ]
  },
  {
   "cell_type": "markdown",
   "id": "c94e4d16",
   "metadata": {},
   "source": [
    "## Table Of Contents:\n",
    "[1. Enter Search Term And Number Of Tweets To Load](#section1)<br>\n",
    "[2. Scraps The Data From Twitter](#section2)<br>\n",
    "[3. Preview The Data](#section3)<br>\n",
    "[4. Time Elapsed In Scrapping](#section4)<br>\n",
    "[5. Writing the Data Into CSV File](#section5)"
   ]
  },
  {
   "cell_type": "code",
   "execution_count": 1,
   "id": "eb32cce7",
   "metadata": {},
   "outputs": [],
   "source": [
    "import snscrape.modules.twitter as snstweet\n",
    "import pandas as pd\n",
    "from operator import itemgetter\n",
    "import time"
   ]
  },
  {
   "cell_type": "markdown",
   "id": "060bdab1",
   "metadata": {},
   "source": [
    "<a id='section1'></a>\n",
    "## 1. Enter Search Term And Number Of Tweets To Load"
   ]
  },
  {
   "cell_type": "code",
   "execution_count": 2,
   "id": "99b3da55",
   "metadata": {},
   "outputs": [],
   "source": [
    "# Enter the term you want to search tweet for \n",
    "query = \"elon musk (tesla OR elon OR musk) min_faves:500 until:2022-01-12 since:2021-03-13 \" #Also can do advance search -> copy from twitter advance search bar\n",
    "number_of_tweets = 5 # Max tweets to  be scrapped\n",
    "Filename = 'Elon_Musk.csv' # File Name To load Tweet Data into CSV\n",
    "save_csv = False # True Or False to save data into csv file or not"
   ]
  },
  {
   "cell_type": "markdown",
   "id": "3283db09",
   "metadata": {},
   "source": [
    "<a id='section2'></a>\n",
    "## 2. Scraps The Data From Twitter"
   ]
  },
  {
   "cell_type": "code",
   "execution_count": 3,
   "id": "4ce681c1",
   "metadata": {},
   "outputs": [],
   "source": [
    "begin = time.time()\n",
    "td=[] # List Of Dictionary of Tweets -> A Dict has single tweet And its info\n",
    "for tweet in snstweet.TwitterSearchScraper(query).get_items():\n",
    "    x = vars(tweet)\n",
    "    \n",
    "    td.append(x)\n",
    "    if len(td) == number_of_tweets:\n",
    "        break"
   ]
  },
  {
   "cell_type": "markdown",
   "id": "531b63fa",
   "metadata": {},
   "source": [
    "<a id='section3'></a>\n",
    "## 3. Preview The Data"
   ]
  },
  {
   "cell_type": "code",
   "execution_count": 4,
   "id": "993611d0",
   "metadata": {},
   "outputs": [],
   "source": [
    "print_tweet_data = False\n",
    "if print_tweet_data:\n",
    "    for i in range(len(td)):\n",
    "        print('Tweet:',i+1,\" \", td[i]['content'],' Date:',td[i]['date'].strftime(\"%m/%d/%Y\"),'\\n'*2)\n",
    "        print('-'*80,\"\\n\"*2)"
   ]
  },
  {
   "cell_type": "markdown",
   "id": "5ade9f70",
   "metadata": {},
   "source": [
    "<a id='section4'></a>\n",
    "## 4. Time Elapsed In Scrapping"
   ]
  },
  {
   "cell_type": "code",
   "execution_count": 5,
   "id": "4138d46a",
   "metadata": {},
   "outputs": [
    {
     "name": "stdout",
     "output_type": "stream",
     "text": [
      "Total Time Elapsed to Scrap Data: 3 Seconds or 0 Minutes\n"
     ]
    }
   ],
   "source": [
    "time.sleep(1)\n",
    "end = time.time()\n",
    "print('Total Time Elapsed to Scrap Data:',int(end-begin),'Seconds','or',int((end-begin)/60),'Minutes')"
   ]
  },
  {
   "cell_type": "code",
   "execution_count": 6,
   "id": "cae6936f",
   "metadata": {},
   "outputs": [],
   "source": [
    "fields = list(td[0].keys()) # Contains List of Field Names "
   ]
  },
  {
   "cell_type": "markdown",
   "id": "bab0119a",
   "metadata": {},
   "source": [
    "<a id='section5'></a>\n",
    "## 5. Writing the Data Into CSV File "
   ]
  },
  {
   "cell_type": "code",
   "execution_count": 7,
   "id": "49ffbc99",
   "metadata": {},
   "outputs": [],
   "source": [
    "if save_csv:\n",
    "    import csv # Don't Forget To Change The File Name\n",
    "    with open(Filename, 'w') as csvfile:\n",
    "        writer = csv.DictWriter(csvfile, fieldnames = fields)\n",
    "        writer.writeheader()\n",
    "        writer.writerows(td)"
   ]
  }
 ],
 "metadata": {
  "kernelspec": {
   "display_name": "Python 3 (ipykernel)",
   "language": "python",
   "name": "python3"
  },
  "language_info": {
   "codemirror_mode": {
    "name": "ipython",
    "version": 3
   },
   "file_extension": ".py",
   "mimetype": "text/x-python",
   "name": "python",
   "nbconvert_exporter": "python",
   "pygments_lexer": "ipython3",
   "version": "3.9.7"
  }
 },
 "nbformat": 4,
 "nbformat_minor": 5
}
